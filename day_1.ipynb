{
 "cells": [
  {
   "cell_type": "markdown",
   "metadata": {},
   "source": [
    "## Title: Python Basics \n",
    "### Written by: Sehar Tabassum"
   ]
  },
  {
   "cell_type": "markdown",
   "metadata": {},
   "source": [
    "IDE : To write python code \\\n",
    "Markdown: To write formatted text \\\n",
    "Raw NBconvert : To write unfomatted text \\\n",
    "jupyter notebook: To write code, formatted text, unformatted text, create charts and graphs etc \\\n",
    "Esc + dlt = delete cell \\\n",
    "esc + a = insert cell above \\\n",
    "Shift + enter = Run the cell \\\n",
    "to add new line in markdown: space + \\\n",
    "\n"
   ]
  },
  {
   "cell_type": "code",
   "execution_count": 3,
   "metadata": {},
   "outputs": [
    {
     "name": "stdout",
     "output_type": "stream",
     "text": [
      "Hello everyone!\n"
     ]
    }
   ],
   "source": [
    "print(\"Hello everyone!\")"
   ]
  },
  {
   "cell_type": "code",
   "execution_count": 4,
   "metadata": {},
   "outputs": [
    {
     "name": "stdout",
     "output_type": "stream",
     "text": [
      "I am learnig python\n"
     ]
    }
   ],
   "source": [
    "print(\"I am learnig python\")"
   ]
  },
  {
   "cell_type": "markdown",
   "metadata": {},
   "source": [
    "#   Variables\n",
    "In python, variables are used to store values that can be referenced and manipulated within a program. Variables in python are dynamically declared, which means you don't need to explicitly declare their types. Here are some rules to declare a variable:\n",
    "\n",
    "Variable Naming: Variable names can have letters (A-Z), (a-z) and digits, but name cannot start with a digit. Python is case_sensitive so Variable and variable are different. To assign value to a variable, put = sign after variable name. \n",
    "\n",
    "my_var = 10\n",
    "\n",
    "#  Data Types\n",
    "The commonly used data types in python are:\n",
    "\n",
    "String(str): Any combination of alphabets, numbers and special characters \n",
    "\n",
    "Integer(int): A whole number positive and negative including 0\n",
    "\n",
    "float: decimal numbers\n",
    "\n",
    "Boolean: True or False\n",
    "\n"
   ]
  },
  {
   "cell_type": "code",
   "execution_count": 5,
   "metadata": {},
   "outputs": [
    {
     "data": {
      "text/plain": [
       "str"
      ]
     },
     "execution_count": 5,
     "metadata": {},
     "output_type": "execute_result"
    }
   ],
   "source": [
    "# to check type\n",
    "type(\"Hello\")\n",
    "type(123)\n",
    "type(12.34)\n",
    "type(True)\n",
    "type(\"12.34\") #anything within \"\" is string\n",
    "\n"
   ]
  },
  {
   "cell_type": "code",
   "execution_count": 6,
   "metadata": {},
   "outputs": [
    {
     "data": {
      "text/plain": [
       "str"
      ]
     },
     "execution_count": 6,
     "metadata": {},
     "output_type": "execute_result"
    }
   ],
   "source": [
    "#declare a variable\n",
    "student_name = \"John\"\n",
    "type(student_name)"
   ]
  },
  {
   "cell_type": "code",
   "execution_count": 7,
   "metadata": {},
   "outputs": [
    {
     "name": "stdout",
     "output_type": "stream",
     "text": [
      "Student name is: John\n"
     ]
    }
   ],
   "source": [
    "#concatenate a str and varaible\n",
    "print(\"Student name is:\", student_name)"
   ]
  },
  {
   "cell_type": "markdown",
   "metadata": {},
   "source": [
    "#   Operators\n",
    "Arithmetic Operator: +, -, *, /, % (modulus), ** (exponent) \\\n",
    "Relational Operator: >, >=, <=, != (not equal to), == \\\n",
    "To assign a variable: = \\\n",
    "Increment/ Decremnet Operator: +=, -="
   ]
  },
  {
   "cell_type": "code",
   "execution_count": 8,
   "metadata": {},
   "outputs": [
    {
     "data": {
      "text/plain": [
       "2.4"
      ]
     },
     "execution_count": 8,
     "metadata": {},
     "output_type": "execute_result"
    }
   ],
   "source": [
    "#division\n",
    "12/5"
   ]
  },
  {
   "cell_type": "code",
   "execution_count": 9,
   "metadata": {},
   "outputs": [
    {
     "data": {
      "text/plain": [
       "2"
      ]
     },
     "execution_count": 9,
     "metadata": {},
     "output_type": "execute_result"
    }
   ],
   "source": [
    "12%5"
   ]
  },
  {
   "cell_type": "code",
   "execution_count": 10,
   "metadata": {},
   "outputs": [
    {
     "data": {
      "text/plain": [
       "125"
      ]
     },
     "execution_count": 10,
     "metadata": {},
     "output_type": "execute_result"
    }
   ],
   "source": [
    "5**3"
   ]
  },
  {
   "cell_type": "code",
   "execution_count": 11,
   "metadata": {},
   "outputs": [
    {
     "data": {
      "text/plain": [
       "False"
      ]
     },
     "execution_count": 11,
     "metadata": {},
     "output_type": "execute_result"
    }
   ],
   "source": [
    "2==5"
   ]
  },
  {
   "cell_type": "code",
   "execution_count": 12,
   "metadata": {},
   "outputs": [
    {
     "data": {
      "text/plain": [
       "25"
      ]
     },
     "execution_count": 12,
     "metadata": {},
     "output_type": "execute_result"
    }
   ],
   "source": [
    "Age = 25\n",
    "Age"
   ]
  },
  {
   "cell_type": "code",
   "execution_count": 13,
   "metadata": {},
   "outputs": [
    {
     "data": {
      "text/plain": [
       "20"
      ]
     },
     "execution_count": 13,
     "metadata": {},
     "output_type": "execute_result"
    }
   ],
   "source": [
    "Age-=5\n",
    "Age"
   ]
  },
  {
   "cell_type": "markdown",
   "metadata": {},
   "source": [
    "input(): To accept input from user\\\n",
    "input from user is always stored as string\\\n",
    "to convert it to required type use casting\\\n",
    "#   Casting:\n",
    "int(x): it converts x to integer\n"
   ]
  },
  {
   "cell_type": "code",
   "execution_count": 14,
   "metadata": {},
   "outputs": [
    {
     "name": "stdout",
     "output_type": "stream",
     "text": [
      "Your name is  Sehar\n"
     ]
    }
   ],
   "source": [
    "#Taking input from user and store in a variable\n",
    "name = input(\"Please enter your name\")\n",
    "print(\"Your name is \", name)"
   ]
  },
  {
   "cell_type": "code",
   "execution_count": 15,
   "metadata": {},
   "outputs": [
    {
     "name": "stdout",
     "output_type": "stream",
     "text": [
      "Your age is: 23\n"
     ]
    }
   ],
   "source": [
    "Age = int(input(\"Please enter your age\"))\n",
    "print(\"Your age is:\", Age)"
   ]
  },
  {
   "cell_type": "code",
   "execution_count": 16,
   "metadata": {},
   "outputs": [
    {
     "data": {
      "text/plain": [
       "str"
      ]
     },
     "execution_count": 16,
     "metadata": {},
     "output_type": "execute_result"
    }
   ],
   "source": [
    "type(student_name)"
   ]
  },
  {
   "cell_type": "code",
   "execution_count": 17,
   "metadata": {},
   "outputs": [
    {
     "data": {
      "text/plain": [
       "int"
      ]
     },
     "execution_count": 17,
     "metadata": {},
     "output_type": "execute_result"
    }
   ],
   "source": [
    "type(Age)"
   ]
  },
  {
   "cell_type": "markdown",
   "metadata": {},
   "source": [
    "#  Conditionals\n",
    "if else statements are conditional\\\n",
    "if: to define condition\\\n",
    "else: to provide an alternative\\\n",
    "elif: for multiple conditions"
   ]
  },
  {
   "cell_type": "code",
   "execution_count": 18,
   "metadata": {},
   "outputs": [
    {
     "name": "stdout",
     "output_type": "stream",
     "text": [
      "You are eligible to vote\n"
     ]
    }
   ],
   "source": [
    "# program to check voting eligibilty\n",
    "age = int(input(\"Enter your age\"))\n",
    "if age >= 18:\n",
    "    print(\"You are eligible to vote\")\n",
    "else: \n",
    "    print(\"You are not eligible to vote\")"
   ]
  },
  {
   "cell_type": "code",
   "execution_count": 20,
   "metadata": {},
   "outputs": [
    {
     "name": "stdout",
     "output_type": "stream",
     "text": [
      "You are eligible to vote\n"
     ]
    }
   ],
   "source": [
    "#nested if\n",
    "age = input(\"Please enter your age\")\n",
    "if age.isdigit():\n",
    "    if int(age) >= 18:\n",
    "        print(\"You are eligible to vote\")\n",
    "    else:\n",
    "        print(\"You are not eligible\")\n",
    "else:\n",
    "    print(\"Invalid input\")"
   ]
  },
  {
   "cell_type": "code",
   "execution_count": 21,
   "metadata": {},
   "outputs": [
    {
     "name": "stdout",
     "output_type": "stream",
     "text": [
      "Your grade is D\n"
     ]
    }
   ],
   "source": [
    "# program to assign a grade on the basis of marks\n",
    "marks = int(input(\"Please enter your marks\"))\n",
    "if marks >= 90:\n",
    "    print(\"Your grade is A\")\n",
    "elif marks >= 80:\n",
    "    print(\"Your grade is B\")\n",
    "elif marks >= 70:\n",
    "    print(\"Your grade is C\")\n",
    "else:\n",
    "    print(\"Your grade is D\")"
   ]
  },
  {
   "cell_type": "markdown",
   "metadata": {},
   "source": [
    "#  Loops\n",
    "Loops are for iterated\\\n",
    "While loop\\\n",
    "for loop\\\n",
    "break: To terminate the loop"
   ]
  },
  {
   "cell_type": "code",
   "execution_count": 22,
   "metadata": {},
   "outputs": [
    {
     "name": "stdout",
     "output_type": "stream",
     "text": [
      "1\n",
      "2\n",
      "3\n",
      "4\n",
      "5\n",
      "6\n",
      "7\n",
      "8\n",
      "9\n",
      "10\n"
     ]
    }
   ],
   "source": [
    "# programs to print numbers from 1 to 10\n",
    "x = 1\n",
    "while x <= 10:\n",
    "    print(x)\n",
    "    x +=1"
   ]
  },
  {
   "cell_type": "code",
   "execution_count": 24,
   "metadata": {},
   "outputs": [
    {
     "name": "stdout",
     "output_type": "stream",
     "text": [
      "Congratulations! You have won a dollar\n"
     ]
    }
   ],
   "source": [
    "# program to guess  correct number\n",
    "correct_no = 7\n",
    "x = 1 #to keep tracks of number of attempts to guess correct number\n",
    "while x <=3: #you have max 3 chances\n",
    "    num = int(input(\"Please enter a number 1 and 10\"))\n",
    "    if num == correct_no:\n",
    "        print(\"Congratulations! You have won a dollar\")\n",
    "        break\n",
    "    else:\n",
    "        x +=1\n",
    "  \n"
   ]
  },
  {
   "cell_type": "code",
   "execution_count": 25,
   "metadata": {},
   "outputs": [
    {
     "name": "stdout",
     "output_type": "stream",
     "text": [
      "number of vowels are 2\n",
      "number of consonants are 3\n"
     ]
    }
   ],
   "source": [
    "#program to count number of vowels and consonants in a word\n",
    "word = input(\"Please enter a word\")\n",
    "vowel = 0\n",
    "consonants = 0\n",
    "for i in word:\n",
    "    if i in ('a', 'e','i', 'o', 'u'):\n",
    "        vowel +=1\n",
    "    else:\n",
    "        consonants +=1\n",
    "print(\"number of vowels are\", vowel)\n",
    "print(\"number of consonants are\", consonants)"
   ]
  },
  {
   "cell_type": "markdown",
   "metadata": {},
   "source": [
    "#  String Slicing\n",
    "Positive Index : 0\\\n",
    "Negative Index : -1\\\n",
    "Default start index : 0\\\n",
    "Default stop : 1\n"
   ]
  },
  {
   "cell_type": "code",
   "execution_count": 26,
   "metadata": {},
   "outputs": [
    {
     "data": {
      "text/plain": [
       "'c'"
      ]
     },
     "execution_count": 26,
     "metadata": {},
     "output_type": "execute_result"
    }
   ],
   "source": [
    "word = \"Acknowledgement\"\n",
    "word[1]"
   ]
  },
  {
   "cell_type": "code",
   "execution_count": 27,
   "metadata": {},
   "outputs": [
    {
     "data": {
      "text/plain": [
       "'n'"
      ]
     },
     "execution_count": 27,
     "metadata": {},
     "output_type": "execute_result"
    }
   ],
   "source": [
    "word[-2]"
   ]
  },
  {
   "cell_type": "code",
   "execution_count": 29,
   "metadata": {},
   "outputs": [
    {
     "data": {
      "text/plain": [
       "'Ackn'"
      ]
     },
     "execution_count": 29,
     "metadata": {},
     "output_type": "execute_result"
    }
   ],
   "source": [
    "word[:4]\n",
    "#word[0:4]"
   ]
  },
  {
   "cell_type": "code",
   "execution_count": 30,
   "metadata": {},
   "outputs": [
    {
     "data": {
      "text/plain": [
       "'nowle'"
      ]
     },
     "execution_count": 30,
     "metadata": {},
     "output_type": "execute_result"
    }
   ],
   "source": [
    "word[3:8]"
   ]
  },
  {
   "cell_type": "code",
   "execution_count": 31,
   "metadata": {},
   "outputs": [
    {
     "data": {
      "text/plain": [
       "'nowledgement'"
      ]
     },
     "execution_count": 31,
     "metadata": {},
     "output_type": "execute_result"
    }
   ],
   "source": [
    "word[3:] #start from 3 to the end"
   ]
  },
  {
   "cell_type": "code",
   "execution_count": 32,
   "metadata": {},
   "outputs": [
    {
     "data": {
      "text/plain": [
       "'Acknowledgement'"
      ]
     },
     "execution_count": 32,
     "metadata": {},
     "output_type": "execute_result"
    }
   ],
   "source": [
    "word[:]"
   ]
  },
  {
   "cell_type": "code",
   "execution_count": 33,
   "metadata": {},
   "outputs": [
    {
     "data": {
      "text/plain": [
       "'Akoldeet'"
      ]
     },
     "execution_count": 33,
     "metadata": {},
     "output_type": "execute_result"
    }
   ],
   "source": [
    "word[::2] #a new string containing alternative letters from oroginal one like A, k, o "
   ]
  },
  {
   "cell_type": "code",
   "execution_count": 34,
   "metadata": {},
   "outputs": [
    {
     "data": {
      "text/plain": [
       "'tnemegdelwonkcA'"
      ]
     },
     "execution_count": 34,
     "metadata": {},
     "output_type": "execute_result"
    }
   ],
   "source": [
    "word[::-1] #reverse the whole string "
   ]
  },
  {
   "cell_type": "markdown",
   "metadata": {},
   "source": [
    "#  Importing a file in python\n"
   ]
  },
  {
   "cell_type": "code",
   "execution_count": 36,
   "metadata": {},
   "outputs": [],
   "source": [
    "#to transfer data from or to a server\n",
    "!curl https://github.com/Sehar-Tabassum/100_days_of_python #to read from a webpage withoit pyhton libraries\n"
   ]
  },
  {
   "cell_type": "markdown",
   "metadata": {},
   "source": [
    "#   Opening a Local file in read mode\n",
    "Read_mode : r\\\n",
    "'r' - read only mode\\\n",
    "'w' - write- overwrite file with same name\\\n",
    "'r+' - read and write mode\\\n",
    "'a' - open for appending to end of file\n"
   ]
  },
  {
   "cell_type": "code",
   "execution_count": 39,
   "metadata": {},
   "outputs": [],
   "source": [
    "poem = open('poem.txt', 'r')"
   ]
  },
  {
   "cell_type": "code",
   "execution_count": 42,
   "metadata": {},
   "outputs": [],
   "source": [
    "poem_read = poem.readlines() #read eac line and store as a list"
   ]
  },
  {
   "cell_type": "code",
   "execution_count": 43,
   "metadata": {},
   "outputs": [
    {
     "data": {
      "text/plain": [
       "list"
      ]
     },
     "execution_count": 43,
     "metadata": {},
     "output_type": "execute_result"
    }
   ],
   "source": [
    "type(poem_read)"
   ]
  },
  {
   "cell_type": "code",
   "execution_count": 44,
   "metadata": {},
   "outputs": [
    {
     "name": "stdout",
     "output_type": "stream",
     "text": [
      "<_io.TextIOWrapper name='poem.txt' mode='r' encoding='cp1252'>\n"
     ]
    }
   ],
   "source": [
    "print(poem) #it prints file object not conent of file"
   ]
  },
  {
   "cell_type": "code",
   "execution_count": 45,
   "metadata": {},
   "outputs": [
    {
     "name": "stdout",
     "output_type": "stream",
     "text": [
      "[]\n"
     ]
    }
   ],
   "source": [
    "print(poem_read)"
   ]
  },
  {
   "cell_type": "code",
   "execution_count": 49,
   "metadata": {},
   "outputs": [],
   "source": [
    "poem.close()"
   ]
  },
  {
   "cell_type": "markdown",
   "metadata": {},
   "source": [
    "## Functions \n",
    "def: _ to define a function\n"
   ]
  },
  {
   "cell_type": "code",
   "execution_count": 52,
   "metadata": {},
   "outputs": [
    {
     "name": "stdout",
     "output_type": "stream",
     "text": [
      "Roses are red,\n",
      "Violets are blue.\n"
     ]
    }
   ],
   "source": [
    "def short_rhyme():\n",
    "    print(\"Roses are red,\")\n",
    "    print(\"Violets are blue.\")\n",
    "\n",
    "#Call the short_rhyme function\n",
    "short_rhyme()"
   ]
  },
  {
   "cell_type": "code",
   "execution_count": 54,
   "metadata": {},
   "outputs": [
    {
     "name": "stdout",
     "output_type": "stream",
     "text": [
      "What Are You Doing?\n"
     ]
    }
   ],
   "source": [
    "#defining a function with a parameter\n",
    "msg= \"Hello! how are you?\"\n",
    "def greetings(msg):\n",
    "    print(msg.title())\n",
    "#call the fuction \n",
    "msg = \"What are you doing?\"\n",
    "greetings(msg)"
   ]
  },
  {
   "cell_type": "code",
   "execution_count": null,
   "metadata": {},
   "outputs": [],
   "source": []
  }
 ],
 "metadata": {
  "kernelspec": {
   "display_name": "Python 3",
   "language": "python",
   "name": "python3"
  },
  "language_info": {
   "codemirror_mode": {
    "name": "ipython",
    "version": 3
   },
   "file_extension": ".py",
   "mimetype": "text/x-python",
   "name": "python",
   "nbconvert_exporter": "python",
   "pygments_lexer": "ipython3",
   "version": "3.11.4"
  }
 },
 "nbformat": 4,
 "nbformat_minor": 2
}
